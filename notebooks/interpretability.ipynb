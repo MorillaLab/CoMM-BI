# %% [markdown]
# # CoMM-BIP Interpretability Analysis
# [![Open In Colab](https://colab.research.google.com/assets/colab-badge.svg)](https://colab.research.google.com/github/yourusername/CoMM-BIP/blob/main/notebooks/interpretability.ipynb)
# 
# This notebook demonstrates:
# 1. SHAP value analysis for feature importance
# 2. Attention weight visualization
# 3. Biological pathway enrichment
# 4. Latent space projection

# %% [markdown]
# ## 1. Setup
# Load dependencies and model:

# %%
!pip install shap umap-learn gseapy matplotlib seaborn
import torch
import shap
import numpy as np
import pandas as pd
import matplotlib.pyplot as plt
import seaborn as sns
from src.model import CoMM_BIP
from src.data_loader import BiologicalDataLoader

# Load pretrained model (from quickstart)
model = torch.load("models/CoMM-BIP_model.pt")
model.eval()

# Initialize data loader
data_loader = BiologicalDataLoader(data_dir="data/sample_data")
dataloaders = data_loader.get_dataloaders()

# Get feature names
rna_features = data_loader.feature_names['rna']
metabo_features = data_loader.feature_names['metabo']

# %% [markdown]
# ## 2. SHAP Analysis
# Compute feature importance using SHAP:

# %%
# Prepare background and test samples
background = next(iter(dataloaders['train']))[:50]  # 50 samples for background
test_samples = next(iter(dataloaders['test']))[:10]  # 10 samples to explain

# RNA-seq explainer
def rna_predict(x):
    tensor_x = torch.FloatTensor(x)
    metabo = background[1].expand(x.shape[0], -1)
    pheno = background[2].expand(x.shape[0], -1)
    env = background[3].expand(x.shape[0], -1)
    with torch.no_grad():
        return model(tensor_x, metabo, pheno, env).numpy()

rna_explainer = shap.Explainer(
    rna_predict, 
    background[0].numpy(),
    feature_names=rna_features
)
rna_shap = rna_explainer(test_samples[0].numpy())

# Plot top features
shap.plots.beeswarm(rna_shap, max_display=20, show=False)
plt.title("Transcriptomic Feature Importance")
plt.tight_layout()
plt.savefig("results/rna_shap.png", dpi=300)
plt.show()

# %% [markdown]
# ## 3. Attention Visualization
# Analyze cross-modal attention patterns:

# %%
def plot_modality_attention():
    # Get attention weights for first sample
    sample = next(iter(dataloaders['test']))
    with torch.no_grad():
        h_rna = model.rna_encoder(sample[0])
        h_metabo = model.metabo_encoder(sample[1])
        attn_weights = model.rna_metabo_attn(
            h_rna.unsqueeze(1), 
            h_metabo.unsqueeze(1)
        ).squeeze()
    
    # Create attention matrix
    top_rna = np.argsort(-h_rna.abs().mean(0))[:20]  # Top 20 influential genes
    top_metabo = np.argsort(-h_metabo.abs().mean(0))[:10]  # Top 10 metabolites
    
    plt.figure(figsize=(12, 8))
    sns.heatmap(
        attn_weights[top_rna][:, top_metabo],
        xticklabels=[metabo_features[i] for i in top_metabo],
        yticklabels=[rna_features[i] for i in top_rna],
        cmap="viridis",
        annot=True,
        fmt=".2f"
    )
    plt.title("Gene-Metabolite Attention Weights")
    plt.xlabel("Metabolites")
    plt.ylabel("Genes")
    plt.tight_layout()
    plt.savefig("results/attention_matrix.png", dpi=300)
    plt.show()

plot_modality_attention()

# %% [markdown]
# ## 4. Pathway Enrichment
# Identify enriched biological pathways:

# %%
def pathway_enrichment(shap_values, features):
    # Convert SHAP to gene scores
    gene_scores = pd.DataFrame({
        'gene': features,
        'score': np.abs(shap_values.values).mean(0)
    }).sort_values('score', ascending=False)
    
    # Run enrichment (example with GSEA)
    from gseapy import enrichr
    enr = enrichr(
        gene_list=gene_scores['gene'].tolist()[:100],  # Top 100 genes
        gene_sets=['KEGG_2021_Human', 'GO_Biological_Process_2023'],
        organism='Arabidopsis_thaliana'  # Change for your species
    )
    
    # Plot results
    enr.results.head(10).plot.barh(
        x='Term', 
        y='Adjusted P-value',
        legend=False
    )
    plt.title("Pathway Enrichment")
    plt.xlabel("-log10(padj)")
    plt.tight_layout()
    plt.savefig("results/pathway_enrichment.png", dpi=300)
    plt.show()
    return enr.results

pathway_results = pathway_enrichment(rna_shap, rna_features)
pathway_results.head(10)

# %% [markdown]
# ## 5. Latent Space Projection
# Visualize learned embeddings:

# %%
from umap import UMAP

def plot_latent_space():
    # Get embeddings for test set
    embeddings, labels = [], []
    for batch in dataloaders['test']:
        with torch.no_grad():
            h = model.encode(*batch[:4])
            embeddings.append(torch.cat(h[:4], dim=1))
            labels.append(batch[4])
    
    embeddings = torch.cat(embeddings).numpy()
    labels = torch.cat(labels).numpy()
    
    # UMAP projection
    reducer = UMAP(random_state=42)
    proj = reducer.fit_transform(embeddings)
    
    # Plot
    plt.figure(figsize=(10, 8))
    for eff in np.unique(labels):
        idx = labels == eff
        plt.scatter(
            proj[idx, 0], proj[idx, 1], 
            label=EFFECTOR_NAMES[eff],
            s=50, alpha=0.7
        )
    plt.title("Latent Space Projection (UMAP)")
    plt.xlabel("UMAP1")
    plt.ylabel("UMAP2")
    plt.legend()
    plt.grid(True)
    plt.tight_layout()
    plt.savefig("results/latent_space.png", dpi=300)
    plt.show()

plot_latent_space()

# %% [markdown]
# ## 6. Biological Prior Analysis
# Validate biological prior effectiveness:

# %%
def analyze_priors():
    # Compare prior-enhanced vs non-enhanced features
    prior_genes = [
        gene for gene in rna_features 
        if any(x in gene for x in ['VIT', 'FER', 'JAZ', 'MYC'])
    ]
    non_prior_genes = [g for g in rna_features if g not in prior_genes]
    
    # Get SHAP values for both sets
    prior_idx = [rna_features.index(g) for g in prior_genes]
    non_prior_idx = [rna_features.index(g) for g in non_prior_genes]
    
    prior_shap = np.abs(rna_shap.values[:, prior_idx]).mean()
    non_prior_shap = np.abs(rna_shap.values[:, non_prior_idx]).mean()
    
    # Plot comparison
    plt.bar(
        ['Prior-Enhanced Genes', 'Other Genes'],
        [prior_shap, non_prior_shap],
        color=['#1f77b4', '#ff7f0e']
    )
    plt.ylabel("Mean |SHAP Value|")
    plt.title("Biological Prior Effectiveness")
    plt.savefig("results/prior_effectiveness.png", dpi=300)
    plt.show()

analyze_priors()

# %% [markdown]
# ## 7. Saving Results
# Export all interpretability results:

# %%
def save_interpretability_results():
    os.makedirs("results", exist_ok=True)
    
    # Save SHAP values
    pd.DataFrame({
        'feature': rna_features,
        'mean_abs_shap': np.abs(rna_shap.values).mean(0)
    }).to_csv("results/rna_shap_values.csv", index=False)
    
    # Save pathway results
    pathway_results.to_csv("results/pathway_enrichment.csv", index=False)
    
    print("✅ All results saved to /results directory")

save_interpretability_results()
