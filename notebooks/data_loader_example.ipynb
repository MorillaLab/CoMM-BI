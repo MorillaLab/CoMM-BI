from data_loader import BiologicalDataLoader

# Initialize and get dataloaders
loader = BiologicalDataLoader(data_dir="path/to/data")
dataloaders = loader.get_dataloaders(augment_train=True)

# Access feature names for biological priors
print(loader.feature_names['transcriptome'][:5])  # First 5 genes
