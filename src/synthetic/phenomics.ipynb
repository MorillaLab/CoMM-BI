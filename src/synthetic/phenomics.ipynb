# @title 🌱 Simulated Root Phenomics Data for E-MTAB-13691
import pandas as pd
import numpy as np
from skimage.measure import regionprops_table
import matplotlib.pyplot as plt

# Experimental groups from original study (4 effectors × 4 reps + 4 GFP controls)
samples = [f"{eff}_{rep}" for eff in ['707','749','781','GFP'] for rep in range(1,5)]

# Simulate root system architecture metrics (n=16 samples)
np.random.seed(13691)
data = {
    # Primary root traits
    'Primary_root_length_cm': np.round(np.random.normal(loc=12.5, scale=1.2, size=16), 1),
    'Lateral_root_count': np.random.poisson(lam=45, size=16),
    
    # Branching complexity (simulated from fractal analysis)
    'Fractal_dimension': np.round(np.random.uniform(low=1.25, high=1.45, size=16), 3),
    
    # Root hair properties
    'Root_hair_density_per_mm': np.round(np.random.normal(loc=85, scale=12, size=16)),
    'Avg_root_hair_length_um': np.round(np.random.normal(loc=420, scale=75, size=16)),
    
    # Stress response indicators
    'Root_swelling_index': np.round(np.random.uniform(low=0.9, high=1.8, size=16), 2),
    'Anthocyanin_accumulation_AU': np.round(np.random.exponential(scale=15, size=16))
}

# Add biological effects based on effector type
df = pd.DataFrame(data, index=samples)

# 1) GLOIN707 promotes branching
df.loc[df.index.str.startswith('707'), 'Lateral_root_count'] *= 1.4
df.loc[df.index.str.startswith('707'), 'Fractal_dimension'] += 0.05

# 2) RiSP749 reduces root hair length
df.loc[df.index.str.startswith('749'), 'Avg_root_hair_length_um'] *= 0.7

# 3) GLOIN781 induces stress morphology
df.loc[df.index.str.startswith('781'), 'Root_swelling_index'] *= 1.5
df.loc[df.index.str.startswith('781'), 'Anthocyanin_accumulation_AU'] *= 2.2

# Add metadata matching original study
df['Genotype'] = ['OE' if not x.startswith('GFP') else 'WT' for x in df.index]
df['Effector'] = [x.split('_')[0] for x in df.index]
df['Replicate'] = [x.split('_')[1] for x in df.index]

# Save as TSV
df.to_csv('E-MTAB-13691_root_phenomics.tsv', sep='\t')

# Visualize key traits
fig, axes = plt.subplots(2, 2, figsize=(10, 8))
df.boxplot(column='Lateral_root_count', by='Effector', ax=axes[0,0])
df.boxplot(column='Avg_root_hair_length_um', by='Effector', ax=axes[0,1])
df.boxplot(column='Root_swelling_index', by='Effector', ax=axes[1,0])
df.boxplot(column='Anthocyanin_accumulation_AU', by='Effector', ax=axes[1,1])
plt.suptitle('Root Phenotypic Responses to Effector Induction')
plt.tight_layout()
plt.savefig('root_phenomics_qc.png', dpi=300)
