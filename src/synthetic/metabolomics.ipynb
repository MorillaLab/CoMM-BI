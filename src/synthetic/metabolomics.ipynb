# @title 🧪 Simulated Metabolomics Data for E-MTAB-13691
import pandas as pd
import numpy as np

# Experimental groups from the original study
groups = ['707_1', '707_2', '707_3', '707_4', 
          '749_1', '749_2', '749_3', '749_4',
          '781_1', '781_2', '781_3', '781_4',
          'GFP_1', 'GFP_2', 'GFP_3', 'GFP_4']

# Realistic tomato root metabolites (based on literature)
metabolites = [
    'Lycopersiconoside A', 'Esculeoside A', 'Tomatinine', 
    'α-Tomatine', 'Dehydrotomatine', 'Solamargine',
    'ABA', 'JA-Ile', 'SA', 'Strigolactone',
    'Malate', 'Citrate', 'Fumarate', 'Succinate',
    'Glutamate', 'Proline', 'Phenylalanine', 'Tyramine'
]

# Generate simulated LC-MS intensity data (log10 transformed)
np.random.seed(13691)
data = np.round(10**np.random.normal(loc=3, scale=0.8, size=(len(groups), len(metabolites)), 2)

# Create DataFrame with biological variation patterns
metab_df = pd.DataFrame(data, columns=metabolites, index=groups)

# Add expected biological patterns:
# 1) Higher phytoalexins in effector samples
effector_samples = [s for s in groups if not s.startswith('GFP')]
metab_df.loc[effector_samples, ['α-Tomatine', 'Dehydrotomatine']] *= 1.8

# 2) Higher stress metabolites in 781 (GLOIN781 effector)
metab_df.loc[[s for s in groups if s.startswith('781')], ['ABA', 'JA-Ile']] *= 2.1

# 3) Control samples have higher primary metabolites
metab_df.loc[[s for s in groups if s.startswith('GFP')], ['Malate', 'Citrate']] *= 1.5

# Add metadata matching original study
metab_df['Genotype'] = ['OE' if not x.startswith('GFP') else 'WT' for x in groups]
metab_df['Effector'] = [x.split('_')[0] for x in groups]
metab_df['Replicate'] = [x.split('_')[1] for x in groups]

# Save as TSV
metab_df.to_csv('E-MTAB-13691_metabolomics.tsv', sep='\t')

print(metab_df.head(3))
